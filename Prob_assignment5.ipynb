{
  "nbformat": 4,
  "nbformat_minor": 0,
  "metadata": {
    "colab": {
      "provenance": [],
      "authorship_tag": "ABX9TyMcK59hhDhV6vOGo1zpBJOi",
      "include_colab_link": true
    },
    "kernelspec": {
      "name": "python3",
      "display_name": "Python 3"
    },
    "language_info": {
      "name": "python"
    }
  },
  "cells": [
    {
      "cell_type": "markdown",
      "metadata": {
        "id": "view-in-github",
        "colab_type": "text"
      },
      "source": [
        "<a href=\"https://colab.research.google.com/github/Pruthul15/handson-ml2/blob/master/Prob_assignment5.ipynb\" target=\"_parent\"><img src=\"https://colab.research.google.com/assets/colab-badge.svg\" alt=\"Open In Colab\"/></a>"
      ]
    },
    {
      "cell_type": "markdown",
      "source": [
        "**Probability Assignment** "
      ],
      "metadata": {
        "id": "xeYMdHpCt1-C"
      }
    },
    {
      "cell_type": "markdown",
      "source": [
        "Question 3"
      ],
      "metadata": {
        "id": "pQmLl_7f2c2B"
      }
    },
    {
      "cell_type": "code",
      "source": [
        "#Question 3\n",
        "import numpy as np\n",
        "import matplotlib\n",
        "import matplotlib.pyplot as plt\n",
        "d = 2 # Number of dimensions\n",
        "mu = np.matrix([[0.], [2.]])\n",
        "sigma = np.matrix([\n",
        "    [0.3, -1], \n",
        "    [-1, 5]\n",
        "])\n",
        "\n",
        "# Create L\n",
        "L = np.linalg.cholesky(sigma)\n",
        "# Sample X from standard normal\n",
        "n = 100  # Samples to draw\n",
        "X = np.random.normal(size=(d, n))\n",
        "# Apply the transformation\n",
        "Y = L.dot(X) + mu\n",
        "\n",
        "# To plot bivrate bormal distribution\n",
        "fig, ax = plt.subplots(figsize=(6, 4.5))\n",
        "ax.plot(Y[0,:], Y[1,:], 'ro', alpha=.6,\n",
        "        markeredgecolor='k', markeredgewidth=0.5)\n",
        "ax.set_xlabel('$y_1$', fontsize=13)\n",
        "ax.set_ylabel('$y_2$', fontsize=13)\n",
        "ax.axis([-2, 5, -10, 10])"
      ],
      "metadata": {
        "colab": {
          "base_uri": "https://localhost:8080/",
          "height": 332
        },
        "id": "QknNNS8huFWk",
        "outputId": "03a94b55-4d7c-4a10-8a3b-a155a8c096e7"
      },
      "execution_count": 7,
      "outputs": [
        {
          "output_type": "execute_result",
          "data": {
            "text/plain": [
              "(-2.0, 5.0, -10.0, 10.0)"
            ]
          },
          "metadata": {},
          "execution_count": 7
        },
        {
          "output_type": "display_data",
          "data": {
            "text/plain": [
              "<Figure size 432x324 with 1 Axes>"
            ],
            "image/png": "[encoded data removed]"
          },
          "metadata": {
            "needs_background": "light"
          }
        }
      ]
    },
    {
      "cell_type": "markdown",
      "source": [
        "Question 4"
      ],
      "metadata": {
        "id": "O2817Gc6AvBz"
      }
    },
    {
      "cell_type": "code",
      "source": [
        "import pandas as pd\n",
        "data = pd.read_csv('nyc-east-river-bicycle-counts.csv')\n",
        "#part1 to pot histogram\n",
        "data1=np.array(data['Brooklyn Bridge'])\n",
        "display(data1)\n",
        "np.histogram(data1)"
      ],
      "metadata": {
        "colab": {
          "base_uri": "https://localhost:8080/",
          "height": 486
        },
        "id": "b4Ps-hBLAt2_",
        "outputId": "ead1b416-bb20-4932-9cf7-4a9802ff22d9"
      },
      "execution_count": 8,
      "outputs": [
        {
          "output_type": "display_data",
          "data": {
            "text/plain": [
              "array([1704.,  827.,  526.,  521., 1416., 1885., 1276., 1982.,  504.,\n",
              "       1447., 2005., 1045., 2840., 2861., 2770., 2384., 3147., 3871.,\n",
              "       3501., 3450., 3436., 2975., 2055., 2798., 3463., 1997., 3343.,\n",
              "       2486., 2375., 3199., 1704.,  827.,  526.,  521., 1416., 1885.,\n",
              "       1276., 1982.,  504., 1447., 2005., 1045., 2840., 2861., 2770.,\n",
              "       2384., 3147., 3871., 3501., 3450., 3436., 2975., 2055., 2798.,\n",
              "       3463., 1997., 3343., 2486., 2375., 3199., 1704.,  827.,  526.,\n",
              "        521., 1416., 1885., 1276., 1982.,  504., 1447., 2005., 1045.,\n",
              "       2840., 2861., 2770., 2384., 3147., 3871., 3501., 3450., 3436.,\n",
              "       2975., 2055., 2798., 3463., 1997., 3343., 2486., 2375., 3199.,\n",
              "       1704.,  827.,  526.,  521., 1416., 1885., 1276., 1982.,  504.,\n",
              "       1447., 2005., 1045., 2840., 2861., 2770., 2384., 3147., 3871.,\n",
              "       3501., 3450., 3436., 2975., 2055., 2798., 3463., 1997., 3343.,\n",
              "       2486., 2375., 3199., 1704.,  827.,  526.,  521., 1416., 1885.,\n",
              "       1276., 1982.,  504., 1447., 2005., 1045., 2840., 2861., 2770.,\n",
              "       2384., 3147., 3871., 3501., 3450., 3436., 2975., 2055., 2798.,\n",
              "       3463., 1997., 3343., 2486., 2375., 3199., 1704.,  827.,  526.,\n",
              "        521., 1416., 1885., 1276., 1982.,  504., 1447., 2005., 1045.,\n",
              "       2840., 2861., 2770., 2384., 3147., 3871., 3501., 3450., 3436.,\n",
              "       2975., 2055., 2798., 3463., 1997., 3343., 2486., 2375., 3199.,\n",
              "       1704.,  827.,  526.,  521., 1416., 1885., 1276., 1982.,  504.,\n",
              "       1447., 2005., 1045., 2840., 2861., 2770., 2384., 3147., 3871.,\n",
              "       3501., 3450., 3436., 2975., 2055., 2798., 3463., 1997., 3343.,\n",
              "       2486., 2375., 3199.])"
            ]
          },
          "metadata": {}
        },
        {
          "output_type": "execute_result",
          "data": {
            "text/plain": [
              "(array([28,  7, 21,  7, 35, 21, 21, 21, 42,  7]),\n",
              " array([ 504. ,  840.7, 1177.4, 1514.1, 1850.8, 2187.5, 2524.2, 2860.9,\n",
              "        3197.6, 3534.3, 3871. ]))"
            ]
          },
          "metadata": {},
          "execution_count": 8
        }
      ]
    }
  ]
}