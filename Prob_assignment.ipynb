{
  "nbformat": 4,
  "nbformat_minor": 0,
  "metadata": {
    "colab": {
      "provenance": [],
      "authorship_tag": "ABX9TyPi8lyTVi+P/d86IcZ6vRsu",
      "include_colab_link": true
    },
    "kernelspec": {
      "name": "python3",
      "display_name": "Python 3"
    },
    "language_info": {
      "name": "python"
    }
  },
  "cells": [
    {
      "cell_type": "markdown",
      "metadata": {
        "id": "view-in-github",
        "colab_type": "text"
      },
      "source": [
        "<a href=\"https://colab.research.google.com/github/Pruthul15/handson-ml2/blob/master/Prob_assignment.ipynb\" target=\"_parent\"><img src=\"https://colab.research.google.com/assets/colab-badge.svg\" alt=\"Open In Colab\"/></a>"
      ]
    },
    {
      "cell_type": "markdown",
      "source": [
        "**Probability Assignment** "
      ],
      "metadata": {
        "id": "xeYMdHpCt1-C"
      }
    },
    {
      "cell_type": "markdown",
      "source": [
        "Question 3"
      ],
      "metadata": {
        "id": "pQmLl_7f2c2B"
      }
    },
    {
      "cell_type": "code",
      "source": [
        "#Question 3\n",
        "import numpy as np\n",
        "import matplotlib\n",
        "import matplotlib.pyplot as plt\n",
        "d = 2 # Number of dimensions\n",
        "mu = np.matrix([[0.], [2.]])\n",
        "sigma = np.matrix([\n",
        "    [0.3, -1], \n",
        "    [-1, 5]\n",
        "])\n",
        "\n",
        "# Create L\n",
        "L = np.linalg.cholesky(sigma)\n",
        "# Sample X from standard normal\n",
        "n = 100  # Samples to draw\n",
        "X = np.random.normal(size=(d, n))\n",
        "# Apply the transformation\n",
        "Y = L.dot(X) + mu\n",
        "\n",
        "# To plot bivrate bormal distribution\n",
        "fig, ax = plt.subplots(figsize=(6, 4.5))\n",
        "ax.plot(Y[0,:], Y[1,:], 'ro', alpha=.6,\n",
        "        markeredgecolor='k', markeredgewidth=0.5)\n",
        "ax.set_xlabel('$y_1$', fontsize=13)\n",
        "ax.set_ylabel('$y_2$', fontsize=13)\n",
        "ax.axis([-2.5, 2.5, -2, 4])"
      ],
      "metadata": {
        "colab": {
          "base_uri": "https://localhost:8080/",
          "height": 332
        },
        "id": "QknNNS8huFWk",
        "outputId": "16bb138c-9d0a-4d20-c073-2a868c3eb390"
      },
      "execution_count": 17,
      "outputs": [
        {
          "output_type": "execute_result",
          "data": {
            "text/plain": [
              "(-2.5, 2.5, -2.0, 4.0)"
            ]
          },
          "metadata": {},
          "execution_count": 17
        },
        {
          "output_type": "display_data",
          "data": {
            "text/plain": [
              "<Figure size 432x324 with 1 Axes>"
            ],
            "image/png": "[encoded data removed]"
          },
          "metadata": {
            "needs_background": "light"
          }
        }
      ]
    }
  ]
}